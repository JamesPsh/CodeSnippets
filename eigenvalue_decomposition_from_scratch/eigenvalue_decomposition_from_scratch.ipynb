{
 "cells": [
  {
   "cell_type": "markdown",
   "id": "b549044b",
   "metadata": {},
   "source": [
    "# Implementing Eigenvalue Decomposition from Scratch\n",
    "\n",
    "In this tutorial, we will explore how to implement eigenvalue decomposition from scratch using Python. Eigenvalue decomposition is a crucial concept in linear algebra, helping in solving linear equations, factorizing matrices, and many other applications. We will discuss three methods here: the Gram-Schmidt process for QR decomposition, the power iteration method, and the QR algorithm. Let's delve into each part of the code step by step.\n",
    "\n",
    "## Importing Necessary Libraries\n",
    "\n",
    "First, we need to import the necessary libraries, `numpy` for numerical computations and `pandas` for data handling."
   ]
  },
  {
   "cell_type": "code",
   "execution_count": 1,
   "id": "94ce076e",
   "metadata": {},
   "outputs": [],
   "source": [
    "import numpy as np\n",
    "import pandas as pd"
   ]
  },
  {
   "cell_type": "markdown",
   "id": "96b97f85",
   "metadata": {},
   "source": [
    "## Gram-Schmidt QR Decomposition\n",
    "\n",
    "The Gram-Schmidt process is a method for orthonormalizing a set of vectors in an inner product space.\n",
    "Here, we use it to compute the QR decomposition of a matrix A."
   ]
  },
  {
   "cell_type": "code",
   "execution_count": 2,
   "id": "2abd9075",
   "metadata": {},
   "outputs": [],
   "source": [
    "def gram_schmidt_qr(A):\n",
    "    '''\n",
    "    Computes the QR decomposition of the matrix A using Gram-Schmidt orthogonalization process.\n",
    "    \n",
    "    Parameters:\n",
    "    A (numpy.ndarray): The input matrix\n",
    "    \n",
    "    Returns:\n",
    "    tuple: Orthogonal matrix Q and upper triangular matrix R\n",
    "    '''\n",
    "    n, m = A.shape\n",
    "    Q = np.zeros((n, m))\n",
    "    R = np.zeros((m, m))\n",
    "\n",
    "    for j in range(m):\n",
    "        v = A[:, j]\n",
    "        for i in range(j):\n",
    "            R[i, j] = np.dot(Q[:, i], A[:, j])\n",
    "            v = v - (R[i, j] * Q[:, i])\n",
    "        \n",
    "        R[j, j] = np.linalg.norm(v)\n",
    "        Q[:, j] = v / R[j, j]\n",
    "    \n",
    "    return Q, R"
   ]
  },
  {
   "cell_type": "markdown",
   "id": "f15b91ec",
   "metadata": {},
   "source": [
    "## Power Iteration Method\n",
    "\n",
    "The power iteration method is a simple way to find the largest eigenvalue and the corresponding eigenvector of a matrix."
   ]
  },
  {
   "cell_type": "code",
   "execution_count": 3,
   "id": "499e9a47",
   "metadata": {},
   "outputs": [],
   "source": [
    "def power_iteration(A, num_simulations=100):\n",
    "    '''\n",
    "    Computes the largest eigenvalue and the corresponding eigenvector of the matrix A using power iteration method.\n",
    "    \n",
    "    Parameters:\n",
    "    A (numpy.ndarray): The input matrix\n",
    "    num_simulations (int): The number of iterations to perform\n",
    "    \n",
    "    Returns:\n",
    "    tuple: The largest eigenvalue and the corresponding eigenvector\n",
    "    '''\n",
    "    n, d = A.shape\n",
    "    b_k = np.random.rand(d)\n",
    "    \n",
    "    for _ in range(num_simulations):\n",
    "        # Compute the matrix-by-vector product Ab\n",
    "        Ab = np.dot(A, b_k)\n",
    "        \n",
    "        # Compute the norm of the vector Ab\n",
    "        b_k_norm = np.sqrt(np.sum(Ab**2))\n",
    "        \n",
    "        # Re normalize the vector\n",
    "        b_k = Ab / b_k_norm\n",
    "    \n",
    "    # Compute the largest eigenvalue\n",
    "    lambda_k = np.dot(b_k.T, np.dot(A, b_k))\n",
    "    \n",
    "    return lambda_k, b_k"
   ]
  },
  {
   "cell_type": "markdown",
   "id": "02391ec2",
   "metadata": {},
   "source": [
    "## QR Algorithm\n",
    "\n",
    "The QR algorithm is an eigenvalue algorithm: that is, a procedure to calculate the eigenvalues and eigenvectors of a matrix.\n",
    "The algorithm allows us to find all the eigenvalues and eigenvectors of a matrix."
   ]
  },
  {
   "cell_type": "code",
   "execution_count": 4,
   "id": "b0f7ae4d",
   "metadata": {},
   "outputs": [],
   "source": [
    "def qr_algorithm(A, num_simulations=100):\n",
    "    '''\n",
    "    Computes all eigenvalues and eigenvectors of the matrix A using QR algorithm.\n",
    "    \n",
    "    Parameters:\n",
    "    A (numpy.ndarray): The input matrix\n",
    "    num_simulations (int): The number of iterations to perform\n",
    "    \n",
    "    Returns:\n",
    "    tuple: A matrix with eigenvalues on the diagonal and a matrix with eigenvectors as columns\n",
    "    '''\n",
    "    n, d = A.shape\n",
    "    \n",
    "    Q_total = np.eye(d)\n",
    "    for _ in range(num_simulations):\n",
    "        # Compute the QR decomposition of A\n",
    "        Q, R = gram_schmidt_qr(A)\n",
    "        \n",
    "        # Compute the product RQ\n",
    "        A = np.dot(R, Q)\n",
    "        \n",
    "        # Accumulate the product of the Q matrices\n",
    "        Q_total = np.dot(Q_total, Q)\n",
    "    \n",
    "    # The eigenvalues are on the diagonal of A\n",
    "    eigenvalues = np.diag(A)\n",
    "    \n",
    "    # The eigenvectors are the columns of Q_total\n",
    "    eigenvectors = Q_total\n",
    "    \n",
    "    return eigenvalues, eigenvectors"
   ]
  },
  {
   "cell_type": "markdown",
   "id": "b1595582",
   "metadata": {},
   "source": [
    "## Main Script\n",
    "\n",
    "In the main script, we define a matrix A and use the above methods to compute its eigenvalues and eigenvectors.\n",
    "We also use numpy.linalg.eig as a reference method to verify our results."
   ]
  },
  {
   "cell_type": "code",
   "execution_count": 5,
   "id": "f40a4435",
   "metadata": {},
   "outputs": [
    {
     "name": "stdout",
     "output_type": "stream",
     "text": [
      "Note: The \"power_iteration\" method only computes the largest eigenvalue and its corresponding eigenvector.\n"
     ]
    },
    {
     "data": {
      "text/html": [
       "<div>\n",
       "<style scoped>\n",
       "    .dataframe tbody tr th:only-of-type {\n",
       "        vertical-align: middle;\n",
       "    }\n",
       "\n",
       "    .dataframe tbody tr th {\n",
       "        vertical-align: top;\n",
       "    }\n",
       "\n",
       "    .dataframe thead th {\n",
       "        text-align: right;\n",
       "    }\n",
       "</style>\n",
       "<table border=\"1\" class=\"dataframe\">\n",
       "  <thead>\n",
       "    <tr style=\"text-align: right;\">\n",
       "      <th></th>\n",
       "      <th>type</th>\n",
       "      <th>Eigenvalues</th>\n",
       "      <th>Eigenvectors</th>\n",
       "    </tr>\n",
       "  </thead>\n",
       "  <tbody>\n",
       "    <tr>\n",
       "      <th>0</th>\n",
       "      <td>np.linalg.eig</td>\n",
       "      <td>[4.618, 2.382]</td>\n",
       "      <td>[[0.851, -0.526], [0.526, 0.851]]</td>\n",
       "    </tr>\n",
       "    <tr>\n",
       "      <th>1</th>\n",
       "      <td>qr_algorithm</td>\n",
       "      <td>[4.618, 2.382]</td>\n",
       "      <td>[[0.851, -0.526], [0.526, 0.851]]</td>\n",
       "    </tr>\n",
       "    <tr>\n",
       "      <th>2</th>\n",
       "      <td>power_iteration</td>\n",
       "      <td>4.618</td>\n",
       "      <td>[0.851, 0.526]</td>\n",
       "    </tr>\n",
       "  </tbody>\n",
       "</table>\n",
       "</div>"
      ],
      "text/plain": [
       "              type     Eigenvalues                       Eigenvectors\n",
       "0    np.linalg.eig  [4.618, 2.382]  [[0.851, -0.526], [0.526, 0.851]]\n",
       "1     qr_algorithm  [4.618, 2.382]  [[0.851, -0.526], [0.526, 0.851]]\n",
       "2  power_iteration           4.618                     [0.851, 0.526]"
      ]
     },
     "execution_count": 5,
     "metadata": {},
     "output_type": "execute_result"
    }
   ],
   "source": [
    "decimals = 3\n",
    "\n",
    "# Define the matrix A\n",
    "A = np.array([[4, 1], [1, 3]])\n",
    "\n",
    "# Use np.linalg.eig to compute the eigenvalues and eigenvectors\n",
    "eig_vals_np, eig_vecs_np = np.linalg.eig(A)\n",
    "eig_vals_np, eig_vecs_np = np.round(eig_vals_np, decimals), np.round(eig_vecs_np, decimals)\n",
    "\n",
    "# Use power_iteration to compute the largest eigenvalue and corresponding eigenvector\n",
    "largest_eig_val_power_iter, largest_eig_vec_power_iter = power_iteration(A)\n",
    "largest_eig_val_power_iter, largest_eig_vec_power_iter = np.round(largest_eig_val_power_iter, decimals), np.round(largest_eig_vec_power_iter, decimals)\n",
    "\n",
    "# Use qr_algorithm to compute all eigenvalues and eigenvectors\n",
    "eig_vals_qr, eig_vecs_qr = qr_algorithm(A)\n",
    "eig_vals_qr, eig_vecs_qr = np.round(eig_vals_qr, decimals), np.round(eig_vecs_qr, decimals)\n",
    "\n",
    "# Print the results\n",
    "result = []\n",
    "result.append({'type':'np.linalg.eig', 'Eigenvalues':eig_vals_np, 'Eigenvectors':eig_vecs_np})\n",
    "result.append({'type':'qr_algorithm', 'Eigenvalues':eig_vals_qr, 'Eigenvectors':eig_vecs_qr})\n",
    "result.append({'type':'power_iteration', 'Eigenvalues':largest_eig_val_power_iter, 'Eigenvectors':largest_eig_vec_power_iter})\n",
    "\n",
    "print('Note: The \"power_iteration\" method only computes the largest eigenvalue and its corresponding eigenvector.')\n",
    "pd.DataFrame(result)"
   ]
  }
 ],
 "metadata": {
  "kernelspec": {
   "display_name": "Python 3 (ipykernel)",
   "language": "python",
   "name": "python3"
  },
  "language_info": {
   "codemirror_mode": {
    "name": "ipython",
    "version": 3
   },
   "file_extension": ".py",
   "mimetype": "text/x-python",
   "name": "python",
   "nbconvert_exporter": "python",
   "pygments_lexer": "ipython3",
   "version": "3.8.13"
  }
 },
 "nbformat": 4,
 "nbformat_minor": 5
}
