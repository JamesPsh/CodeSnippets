{
 "cells": [
  {
   "cell_type": "code",
   "execution_count": 1,
   "id": "fc5ad661",
   "metadata": {},
   "outputs": [
    {
     "data": {
      "text/plain": [
       "[1, 1, 2, 3, 6, 8, 10]"
      ]
     },
     "execution_count": 1,
     "metadata": {},
     "output_type": "execute_result"
    }
   ],
   "source": [
    "def mergesort(arr):\n",
    "    # 배열의 길이가 1 이하면 정렬할 필요가 없음\n",
    "    if len(arr) <= 1:\n",
    "        return arr\n",
    "    \n",
    "    # 배열을 두 개의 하위 배열로 분할\n",
    "    mid = len(arr) // 2\n",
    "    left_half = arr[:mid]\n",
    "    right_half = arr[mid:]\n",
    "    \n",
    "    # 각 하위 배열을 재귀적으로 정렬\n",
    "    sorted_left = mergesort(left_half)\n",
    "    sorted_right = mergesort(right_half)\n",
    "    \n",
    "    # 두 정렬된 하위 배열을 병합\n",
    "    return merge(sorted_left, sorted_right)\n",
    "\n",
    "def merge(left, right):\n",
    "    result = []\n",
    "    i = j = 0\n",
    "    \n",
    "    # 두 배열을 순회하면서 작은 값부터 result에 추가\n",
    "    while i < len(left) and j < len(right):\n",
    "        if left[i] < right[j]:\n",
    "            result.append(left[i])\n",
    "            i += 1\n",
    "        else:\n",
    "            result.append(right[j])\n",
    "            j += 1\n",
    "    \n",
    "    # 남은 요소를 result에 추가\n",
    "    while i < len(left):\n",
    "        result.append(left[i])\n",
    "        i += 1\n",
    "    while j < len(right):\n",
    "        result.append(right[j])\n",
    "        j += 1\n",
    "    \n",
    "    return result\n",
    "\n",
    "\n",
    "sample_list = [3, 6, 8, 10, 1, 2, 1]\n",
    "mergesort(sample_list)"
   ]
  }
 ],
 "metadata": {
  "kernelspec": {
   "display_name": "Python 3 (ipykernel)",
   "language": "python",
   "name": "python3"
  },
  "language_info": {
   "codemirror_mode": {
    "name": "ipython",
    "version": 3
   },
   "file_extension": ".py",
   "mimetype": "text/x-python",
   "name": "python",
   "nbconvert_exporter": "python",
   "pygments_lexer": "ipython3",
   "version": "3.8.13"
  }
 },
 "nbformat": 4,
 "nbformat_minor": 5
}
