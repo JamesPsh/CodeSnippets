{
 "cells": [
  {
   "cell_type": "code",
   "execution_count": 1,
   "id": "a4d98ad7",
   "metadata": {},
   "outputs": [
    {
     "name": "stdout",
     "output_type": "stream",
     "text": [
      "my_theta:  [3.73501456 3.13900206 3.9211189  5.28520288]\n",
      "sk_theta:  [3.73501456 3.13900206 3.9211189  5.28520288]\n",
      "predictions_comparison:  True\n"
     ]
    }
   ],
   "source": [
    "import numpy as np\n",
    "from sklearn.linear_model import LinearRegression\n",
    "\n",
    "\n",
    "# LinearRegression 클래스 직접 구현\n",
    "class MyLinearRegression:\n",
    "    def fit(self, X, y):\n",
    "        \n",
    "        # 편향 추가\n",
    "        X_b = np.c_[np.ones((X.shape[0], 1)), X]\n",
    "        \n",
    "        # 정규 방정식을 사용하여 모델 파라미터 계산\n",
    "        self.theta_ = np.linalg.inv(X_b.T.dot(X_b)).dot(X_b.T).dot(y)\n",
    "        \n",
    "    def predict(self, X):\n",
    "        \n",
    "        # 편향 추가\n",
    "        X_b = np.c_[np.ones((X.shape[0], 1)), X]\n",
    "        \n",
    "        # 예측 수행\n",
    "        return X_b.dot(self.theta_)\n",
    "    \n",
    "\n",
    "# 임의의 데이터 생성\n",
    "np.random.seed(42)\n",
    "n = 3\n",
    "m = 100\n",
    "X = 2 * np.random.rand(m, n)\n",
    "y = 4 + np.dot(X, [3, 4, 5]) + np.random.randn(m)\n",
    "\n",
    "# MyLinearRegression 클래스를 사용하여 모델 훈련 및 예측\n",
    "my_lin_reg = MyLinearRegression()\n",
    "my_lin_reg.fit(X, y)\n",
    "my_predictions = my_lin_reg.predict(X)\n",
    "\n",
    "# scikit-learn의 LinearRegression 클래스를 사용하여 모델 훈련 및 예측\n",
    "sk_lin_reg = LinearRegression()\n",
    "sk_lin_reg.fit(X, y)\n",
    "sk_predictions = sk_lin_reg.predict(X)\n",
    "\n",
    "# 모델 파라미터와 예측 비교\n",
    "my_theta, sk_theta = my_lin_reg.theta_, [sk_lin_reg.intercept_, *sk_lin_reg.coef_]\n",
    "predictions_comparison = np.allclose(my_predictions, sk_predictions, rtol=1e-05, atol=1e-08)\n",
    "\n",
    "my_theta, sk_theta, predictions_comparison\n",
    "\n",
    "print('my_theta: ', np.round(my_theta, 8))\n",
    "print('sk_theta: ', np.round(sk_theta, 8))\n",
    "print('predictions_comparison: ', predictions_comparison)"
   ]
  }
 ],
 "metadata": {
  "kernelspec": {
   "display_name": "Python 3 (ipykernel)",
   "language": "python",
   "name": "python3"
  },
  "language_info": {
   "codemirror_mode": {
    "name": "ipython",
    "version": 3
   },
   "file_extension": ".py",
   "mimetype": "text/x-python",
   "name": "python",
   "nbconvert_exporter": "python",
   "pygments_lexer": "ipython3",
   "version": "3.8.13"
  }
 },
 "nbformat": 4,
 "nbformat_minor": 5
}
